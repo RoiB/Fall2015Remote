{
 "cells": [
  {
   "cell_type": "code",
   "execution_count": 7,
   "metadata": {
    "collapsed": false
   },
   "outputs": [
    {
     "name": "stdout",
     "output_type": "stream",
     "text": [
      "True theta_0: 0.844421851525\n",
      "True theta_1: 0.75795440294\n"
     ]
    }
   ],
   "source": [
    "'''Assignment 1: LO models'''\n",
    "# Problem 5, experiment\n",
    "import pandas as pd\n",
    "import numpy as np\n",
    "from scipy.optimize import minimize\n",
    "import random\n",
    "random.seed(0)\n",
    "\n",
    "# 1. Pick at random in the segment [0, 1] two “true” parameters θ0∗ and θ1∗ of the regression model\n",
    "# y = theta0 + theta1 * x;\n",
    "theta_0 = random.uniform(0,1)\n",
    "theta_1 = random.uniform(0,1)\n",
    "theta_true = np.array([theta_0, theta_1])\n",
    "print \"True theta_0:\", theta_0\n",
    "print \"True theta_1:\", theta_1"
   ]
  },
  {
   "cell_type": "code",
   "execution_count": 8,
   "metadata": {
    "collapsed": true
   },
   "outputs": [],
   "source": [
    "# 2. Generate a sample of N = 1000 observation errors ξi ∼ P , where P is a given distribution,\n",
    "# and then generate observations y_i according to yi = θ0 ∗ + θ1 ∗ xi + ξi, xi = i/N;\n",
    "N = 1000\n",
    "bnds = ((0,1),(0,1)) # set optimization bounds of theta\n",
    "x_vec = np.array(map(lambda i: 1.* i / N, range(1,1001)))\n",
    "\n",
    "#objective functions\n",
    "UNIFORM = lambda theta: np.max(np.abs(y_vec - (theta[0] + theta[1] * x_vec)))\n",
    "L2 = lambda theta: np.sum((y_vec - (theta[0] + theta[1] * x_vec))**2)\n",
    "L1 = lambda theta: np.sum(np.abs(y_vec - (theta[0] + theta[1] * x_vec)))"
   ]
  },
  {
   "cell_type": "code",
   "execution_count": 9,
   "metadata": {
    "collapsed": false
   },
   "outputs": [
    {
     "name": "stdout",
     "output_type": "stream",
     "text": [
      "            theta_0   theta_1       MSE\n",
      "trueTheta  0.844422  0.757954  0.000000\n",
      "Uniform    0.843538  0.759726  0.000002\n",
      "L2         0.874447  0.684112  0.003177\n",
      "L1         0.876576  0.639231  0.007565\n"
     ]
    }
   ],
   "source": [
    "# 2.1, ξi ∼ uniform(-1,1)\n",
    "Xi = np.array([random.uniform(-1,1) for _ in range(1000)])\n",
    "y_vec = theta_0 + theta_1 * x_vec + Xi\n",
    "\n",
    "\n",
    "res_uniform = minimize(UNIFORM, (.5,.5), bounds=bnds)\n",
    "res_L2 = minimize(L2, (.5,.5), bounds=bnds)\n",
    "res_L1 = minimize(L1, (.5,.5), bounds=bnds)\n",
    "\n",
    "\n",
    "df = pd.DataFrame([theta_true,res_uniform.x, res_L2.x, res_L1.x])\n",
    "df.index = [\"trueTheta\", 'Uniform', 'L2', 'L1']\n",
    "df.columns = ['theta_0', 'theta_1']\n",
    "\n",
    "error = ((df.ix[:,0] - theta_true[0]) ** 2 + (df.ix[:,1] - theta_true[1]) ** 2) / 2\n",
    "df['MSE'] = error\n",
    "print df"
   ]
  },
  {
   "cell_type": "code",
   "execution_count": 10,
   "metadata": {
    "collapsed": false
   },
   "outputs": [
    {
     "name": "stdout",
     "output_type": "stream",
     "text": [
      "            theta_0   theta_1       MSE\n",
      "trueTheta  0.844422  0.757954  0.000000\n",
      "Uniform    0.898642  0.898642  0.011366\n",
      "L2         0.831648  0.773388  0.000201\n",
      "L1         0.818640  0.821221  0.002334\n"
     ]
    }
   ],
   "source": [
    "# 2.2, ξi ∼ Norm(0,1)\n",
    "Xi = np.array([random.gauss(0,1) for _ in range(1000)])\n",
    "y_vec = theta_0 + theta_1 * x_vec + Xi\n",
    "\n",
    "res_uniform = minimize(UNIFORM, (.5,.5), bounds=bnds)\n",
    "res_L2 = minimize(L2, (.5,.5), bounds=bnds)\n",
    "res_L1 = minimize(L1, (.5,.5), bounds=bnds)\n",
    "\n",
    "\n",
    "df = pd.DataFrame([theta_true,res_uniform.x, res_L2.x, res_L1.x])\n",
    "df.index = [\"trueTheta\", 'Uniform', 'L2', 'L1']\n",
    "df.columns = ['theta_0', 'theta_1']\n",
    "\n",
    "error = ((df.ix[:,0] - theta_true[0]) ** 2 + (df.ix[:,1] - theta_true[1]) ** 2) / 2\n",
    "df['MSE'] = error\n",
    "print df"
   ]
  },
  {
   "cell_type": "code",
   "execution_count": 11,
   "metadata": {
    "collapsed": false
   },
   "outputs": [
    {
     "name": "stdout",
     "output_type": "stream",
     "text": [
      "            theta_0   theta_1       MSE\n",
      "trueTheta  0.844422  0.757954  0.000000\n",
      "Uniform    0.921995  0.758090  0.003009\n",
      "L2         0.912734  0.759616  0.002335\n",
      "L1         0.912276  0.755647  0.002305\n"
     ]
    }
   ],
   "source": [
    "# 2.2, ξi ∼ Cauchy\n",
    "Xi = np.array([1./ (np.pi * (1 + (1. / random.random())**2)) for _ in range(1000)]) # t^2 is symmetric on R\n",
    "y_vec = theta_0 + theta_1 * x_vec + Xi\n",
    "\n",
    "res_uniform = minimize(UNIFORM, (.5,.5), bounds=bnds)\n",
    "res_L2 = minimize(L2, (.5,.5), bounds=bnds)\n",
    "res_L1 = minimize(L1, (.5,.5), bounds=bnds)\n",
    "\n",
    "\n",
    "df = pd.DataFrame([theta_true,res_uniform.x, res_L2.x, res_L1.x])\n",
    "df.index = [\"trueTheta\", 'Uniform', 'L2', 'L1']\n",
    "df.columns = ['theta_0', 'theta_1']\n",
    "\n",
    "error = ((df.ix[:,0] - theta_true[0]) ** 2 + (df.ix[:,1] - theta_true[1]) ** 2) / 2\n",
    "df['MSE'] = error\n",
    "print df"
   ]
  }
 ],
 "metadata": {
  "kernelspec": {
   "display_name": "Python 2",
   "language": "python",
   "name": "python2"
  },
  "language_info": {
   "codemirror_mode": {
    "name": "ipython",
    "version": 2
   },
   "file_extension": ".py",
   "mimetype": "text/x-python",
   "name": "python",
   "nbconvert_exporter": "python",
   "pygments_lexer": "ipython2",
   "version": "2.7.10"
  }
 },
 "nbformat": 4,
 "nbformat_minor": 0
}
