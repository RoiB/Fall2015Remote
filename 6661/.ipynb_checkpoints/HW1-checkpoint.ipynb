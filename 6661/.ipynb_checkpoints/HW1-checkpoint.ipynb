{
 "cells": [
  {
   "cell_type": "code",
   "execution_count": 38,
   "metadata": {
    "collapsed": false
   },
   "outputs": [],
   "source": [
    "'''Assignment 1: LO models'''\n",
    "# Problem 5, experiment\n",
    "import pandas as pd\n",
    "import numpy as np\n",
    "from scipy.optimize import minimize\n",
    "import random\n",
    "random.seed(0)"
   ]
  },
  {
   "cell_type": "code",
   "execution_count": 5,
   "metadata": {
    "collapsed": false
   },
   "outputs": [
    {
     "name": "stdout",
     "output_type": "stream",
     "text": [
      "0.844421851525 0.75795440294\n"
     ]
    }
   ],
   "source": [
    "# 1. Pick at random in the segment [0, 1] two “true” parameters θ0∗ and θ1∗ of the regression model\n",
    "# y = theta0 + theta1 * x;\n",
    "theta_0 = random.uniform(0,1)\n",
    "theta_1 = random.uniform(0,1)\n",
    "print theta_0, theta_1"
   ]
  },
  {
   "cell_type": "code",
   "execution_count": 10,
   "metadata": {
    "collapsed": true
   },
   "outputs": [],
   "source": [
    "# 2. Generate a sample of N = 1000 observation errors ξi ∼ P , where P is a given distribution,\n",
    "# and then generate observations y_i according to yi = θ0 ∗ + θ1 ∗ xi + ξi, xi = i/N;\n",
    "N = 1000\n",
    "bnds = ((0,1),(0,1)) # set optimization bounds of theta\n",
    "x_vec = np.array(map(lambda i: 1.* i / N, range(1,1001)))"
   ]
  },
  {
   "cell_type": "code",
   "execution_count": 31,
   "metadata": {
    "collapsed": false
   },
   "outputs": [
    {
     "name": "stdout",
     "output_type": "stream",
     "text": [
      "least Square fit:\n",
      "theta_0: 0.718537235507\n",
      "theta_1: 0.878355540615\n"
     ]
    }
   ],
   "source": [
    "# 2.1, ξi ∼ uniform(-1,1)\n",
    "Xi = np.array([random.uniform(-1,1) for _ in range(1000)])\n",
    "y_vec = theta_0 + theta_1 * x_vec + Xi\n",
    "\n",
    "# 2.1.1 uniform fit\n",
    "# theta_unif = np.polyfit(x_vec, y_vec, deg=0); print 'uniform fit:', theta_unif[0]\n",
    "\n",
    "# 2.1.1  least Square fit\n",
    "theta_leastSquare = np.polyfit(x_vec, y_vec, deg=1)\n",
    "theta_0, theta_1 = theta_leastSquare\n",
    "print 'least Square fit:\\ntheta_0: {}\\ntheta_1: {}'.format(theta_0, theta_1)"
   ]
  },
  {
   "cell_type": "code",
   "execution_count": 59,
   "metadata": {
    "collapsed": false
   },
   "outputs": [],
   "source": [
    "L2 = lambda theta: np.sum((y_vec - (theta[0] + theta[1] * x_vec))**2);"
   ]
  },
  {
   "cell_type": "code",
   "execution_count": 60,
   "metadata": {
    "collapsed": true
   },
   "outputs": [],
   "source": []
  },
  {
   "cell_type": "code",
   "execution_count": 61,
   "metadata": {
    "collapsed": false
   },
   "outputs": [
    {
     "data": {
      "text/plain": [
       "  status: 0\n",
       " success: True\n",
       "    nfev: 21\n",
       "     fun: 325.20375386544021\n",
       "       x: array([ 0.87835552,  0.71853727])\n",
       " message: 'CONVERGENCE: NORM_OF_PROJECTED_GRADIENT_<=_PGTOL'\n",
       "     jac: array([  5.68434189e-06,   5.68434189e-06])\n",
       "     nit: 5"
      ]
     },
     "execution_count": 61,
     "metadata": {},
     "output_type": "execute_result"
    }
   ],
   "source": [
    "minimize(L2, (.5,.5), bounds=bnds)"
   ]
  },
  {
   "cell_type": "code",
   "execution_count": null,
   "metadata": {
    "collapsed": true
   },
   "outputs": [],
   "source": []
  }
 ],
 "metadata": {
  "kernelspec": {
   "display_name": "Python 2",
   "language": "python",
   "name": "python2"
  },
  "language_info": {
   "codemirror_mode": {
    "name": "ipython",
    "version": 2
   },
   "file_extension": ".py",
   "mimetype": "text/x-python",
   "name": "python",
   "nbconvert_exporter": "python",
   "pygments_lexer": "ipython2",
   "version": "2.7.10"
  }
 },
 "nbformat": 4,
 "nbformat_minor": 0
}
