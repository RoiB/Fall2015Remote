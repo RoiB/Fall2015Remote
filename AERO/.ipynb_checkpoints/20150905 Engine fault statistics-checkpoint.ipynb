{
 "cells": [
  {
   "cell_type": "code",
   "execution_count": 28,
   "metadata": {
    "collapsed": true
   },
   "outputs": [],
   "source": [
    "import os\n",
    "import pandas as pd\n",
    "import time"
   ]
  },
  {
   "cell_type": "code",
   "execution_count": 29,
   "metadata": {
    "collapsed": false
   },
   "outputs": [],
   "source": [
    "aeroPath = '/storage3/w/richard/Fall2015/aero/'\n",
    "engineIds = os.listdir(aeroPath) # id of 157 engines\n",
    "flightIds = map(lambda engineId: os.listdir(aeroPath+engineId), engineIds) "
   ]
  },
  {
   "cell_type": "code",
   "execution_count": 30,
   "metadata": {
    "collapsed": false
   },
   "outputs": [
    {
     "name": "stdout",
     "output_type": "stream",
     "text": [
      "Engine0136\n",
      "Flight count: 2935\n"
     ]
    },
    {
     "data": {
      "text/plain": [
       "{3.0}"
      ]
     },
     "execution_count": 30,
     "metadata": {},
     "output_type": "execute_result"
    }
   ],
   "source": [
    "## Test Case, take engineIds at index 0 for example\n",
    "testEngine = engineIds[0]\n",
    "testFlights = flightIds[0]\n",
    "testFlight = flightIds[0][0]\n",
    "print testEngine\n",
    "print \"Flight count:\", len(flightIds[0])\n",
    "flight0 = pd.read_csv(\"{}{}/{}\".format(aeroPath,testEngine,testFlight), usecols=[\"faultMode\"], engine = 'c')\n",
    "set(flight0.ix[0])"
   ]
  },
  {
   "cell_type": "code",
   "execution_count": 31,
   "metadata": {
    "collapsed": false
   },
   "outputs": [],
   "source": [
    "def getFaultMode0(flightId, engineId, path = aeroPath):\n",
    "    flight = pd.read_csv(\"{}{}/{}\".format(path,engineId,flightId))\n",
    "    return set(flight.ix[0])\n",
    "def getFaultMode1(flightId, engineId, path = aeroPath):\n",
    "    flight = pd.read_csv(\"{}{}/{}\".format(path,engineId,flightId), usecols=['faultMode'])\n",
    "    return set(flight.ix[0])\n",
    "def getFaultMode(flightId, engineId, path = aeroPath):\n",
    "    flight = pd.read_csv(\"{}{}/{}\".format(path,engineId,flightId), usecols=['faultMode'], engine = 'c')\n",
    "    return set(flight.ix[0])\n",
    "# map(lambda flight: getFaultMode(flight, testEngine),testFlights)"
   ]
  },
  {
   "cell_type": "code",
   "execution_count": 32,
   "metadata": {
    "collapsed": false
   },
   "outputs": [
    {
     "name": "stdout",
     "output_type": "stream",
     "text": [
      "5.41210174561e-05\n"
     ]
    }
   ],
   "source": [
    "start = time.time()\n",
    "end = time.time() \n",
    "duration = end - start\n",
    "print duration"
   ]
  },
  {
   "cell_type": "code",
   "execution_count": null,
   "metadata": {
    "collapsed": true
   },
   "outputs": [],
   "source": [
    "## processing time experiment"
   ]
  },
  {
   "cell_type": "code",
   "execution_count": null,
   "metadata": {
    "collapsed": true
   },
   "outputs": [],
   "source": [
    "result = []\n",
    "count = 1\n",
    "start = time.time()\n",
    "for flight in testFlights:\n",
    "    res = getFaultMode(flight, testEngine)\n",
    "    result.append(res)\n",
    "#     print count, flight, res\n",
    "    count += 1\n",
    "end = time.time() \n",
    "duration = end - start\n",
    "print duration\n",
    "## from the result, most likely that each engine has one fault mode"
   ]
  },
  {
   "cell_type": "code",
   "execution_count": null,
   "metadata": {
    "collapsed": true
   },
   "outputs": [],
   "source": [
    "result = []\n",
    "count = 1\n",
    "start = time.time()\n",
    "for flight in testFlights:\n",
    "    res = getFaultMode1(flight, testEngine)\n",
    "    result.append(res)\n",
    "#     print count, flight, res\n",
    "    count += 1\n",
    "end = time.time() \n",
    "duration = end - start\n",
    "print duration\n",
    "## from the result, most likely that each engine has one fault mode"
   ]
  },
  {
   "cell_type": "code",
   "execution_count": null,
   "metadata": {
    "collapsed": true
   },
   "outputs": [],
   "source": [
    "result = []\n",
    "count = 1\n",
    "start = time.time()\n",
    "for flight in testFlights:\n",
    "    res = getFaultMode0(flight, testEngine)\n",
    "    result.append(res)\n",
    "#     print count, flight, res\n",
    "    count += 1\n",
    "end = time.time() \n",
    "duration = end - start\n",
    "print duration\n",
    "## from the result, most likely that each engine has one fault mode"
   ]
  }
 ],
 "metadata": {
  "kernelspec": {
   "display_name": "Python 2",
   "language": "python",
   "name": "python2"
  },
  "language_info": {
   "codemirror_mode": {
    "name": "ipython",
    "version": 2
   },
   "file_extension": ".py",
   "mimetype": "text/x-python",
   "name": "python",
   "nbconvert_exporter": "python",
   "pygments_lexer": "ipython2",
   "version": "2.7.10"
  }
 },
 "nbformat": 4,
 "nbformat_minor": 0
}
