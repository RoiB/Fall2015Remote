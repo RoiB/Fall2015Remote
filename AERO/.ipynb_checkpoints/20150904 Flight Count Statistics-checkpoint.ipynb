{
 "cells": [
  {
   "cell_type": "code",
   "execution_count": 1,
   "metadata": {
    "collapsed": true
   },
   "outputs": [],
   "source": [
    "import pandas as pd\n",
    "import matplotlib.pylab as plt\n",
    "%matplotlib inline\n",
    "# plt.ioff()"
   ]
  },
  {
   "cell_type": "code",
   "execution_count": 2,
   "metadata": {
    "collapsed": true
   },
   "outputs": [],
   "source": [
    "df = pd.read_csv(\"smallData/file_statistics.txt\", header = None)\n",
    "engine_id = map(lambda x: x[:-4],df.ix[:,0][range(0,316,2)])\n",
    "file_number = df.ix[:,0][range(1,316,2)]\n",
    "\n",
    "df = pd.DataFrame({\"Engine ID\":engine_id, \"Flights Counts\":file_number})\n",
    "o = df['Engine ID'] != \"Engine0114\"\n",
    "df = df[o]\n",
    "df[\"Flights Counts\"] = df['Flights Counts'].astype(\"int\")\n",
    "FC = df[\"Flights Counts\"] # flights count"
   ]
  },
  {
   "cell_type": "code",
   "execution_count": 3,
   "metadata": {
    "collapsed": false
   },
   "outputs": [
    {
     "data": {
      "image/png": "[encoded data removed]",
      "text/plain": [
       "<matplotlib.figure.Figure at 0x7fd3cb139b90>"
      ]
     },
     "metadata": {},
     "output_type": "display_data"
    }
   ],
   "source": [
    "plt.figure()\n",
    "plt.title(\"Flights Counts across 157 engines\")\n",
    "plot = plt.hist(list(df[\"Flights Counts\"]), bins = 20)"
   ]
  },
  {
   "cell_type": "code",
   "execution_count": 4,
   "metadata": {
    "collapsed": false
   },
   "outputs": [
    {
     "name": "stdout",
     "output_type": "stream",
     "text": [
      "Engine0084 4000\n",
      "Engine0048 2\n",
      "1856.59235669\n"
     ]
    }
   ],
   "source": [
    "print df[\"Engine ID\"][FC.argmax()], FC.max()\n",
    "print df[\"Engine ID\"][FC.argmin()], FC.min()\n",
    "print FC.mean()"
   ]
  },
  {
   "cell_type": "code",
   "execution_count": null,
   "metadata": {
    "collapsed": true
   },
   "outputs": [],
   "source": []
  }
 ],
 "metadata": {
  "kernelspec": {
   "display_name": "Python 2",
   "language": "python",
   "name": "python2"
  },
  "language_info": {
   "codemirror_mode": {
    "name": "ipython",
    "version": 2
   },
   "file_extension": ".py",
   "mimetype": "text/x-python",
   "name": "python",
   "nbconvert_exporter": "python",
   "pygments_lexer": "ipython2",
   "version": "2.7.10"
  }
 },
 "nbformat": 4,
 "nbformat_minor": 0
}
