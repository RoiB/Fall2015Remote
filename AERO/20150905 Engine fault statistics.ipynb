{
 "cells": [
  {
   "cell_type": "code",
   "execution_count": 29,
   "metadata": {
    "collapsed": true
   },
   "outputs": [],
   "source": [
    "import os\n",
    "import pandas as pd\n",
    "import time\n",
    "import sys"
   ]
  },
  {
   "cell_type": "code",
   "execution_count": 8,
   "metadata": {
    "collapsed": false
   },
   "outputs": [],
   "source": [
    "aeroPath = '/storage3/w/richard/Fall2015/aero/'\n",
    "engineIds = os.listdir(aeroPath) # id of 157 engines\n",
    "flightIds = map(lambda engineId: os.listdir(aeroPath+engineId), engineIds) "
   ]
  },
  {
   "cell_type": "code",
   "execution_count": 6,
   "metadata": {
    "collapsed": false
   },
   "outputs": [
    {
     "name": "stdout",
     "output_type": "stream",
     "text": [
      "Engine0136\n",
      "Flight count: 2935\n"
     ]
    },
    {
     "data": {
      "text/plain": [
       "{3.0}"
      ]
     },
     "execution_count": 6,
     "metadata": {},
     "output_type": "execute_result"
    }
   ],
   "source": [
    "## Test Case, take engineIds at index 0 for example\n",
    "testEngine = engineIds[0]\n",
    "testFlights = flightIds[0]\n",
    "testFlight = flightIds[0][0]\n",
    "print testEngine\n",
    "print \"Flight count:\", len(flightIds[0])\n",
    "flight0 = pd.read_csv(\"{}{}/{}\".format(aeroPath,testEngine,testFlight), usecols=[\"faultMode\"], engine = 'c')\n",
    "set(flight0.ix[0])"
   ]
  },
  {
   "cell_type": "code",
   "execution_count": 7,
   "metadata": {
    "collapsed": false
   },
   "outputs": [],
   "source": [
    "def getFaultMode0(flightId, engineId, path = aeroPath):\n",
    "    flight = pd.read_csv(\"{}{}/{}\".format(path,engineId,flightId))\n",
    "    return set(flight.ix[0])\n",
    "def getFaultMode1(flightId, engineId, path = aeroPath):\n",
    "    flight = pd.read_csv(\"{}{}/{}\".format(path,engineId,flightId), usecols=['faultMode'])\n",
    "    return set(flight.ix[0])\n",
    "def getFaultMode(flightId, engineId, path = aeroPath):\n",
    "    flight = pd.read_csv(\"{}{}/{}\".format(path,engineId,flightId), usecols=['faultMode'], engine = 'c')\n",
    "    return set(flight.ix[0])\n",
    "# map(lambda flight: getFaultMode(flight, testEngine),testFlights)"
   ]
  },
  {
   "cell_type": "code",
   "execution_count": 5,
   "metadata": {
    "collapsed": false
   },
   "outputs": [
    {
     "name": "stdout",
     "output_type": "stream",
     "text": [
      "5.60283660889e-05\n"
     ]
    }
   ],
   "source": [
    "start = time.time()\n",
    "end = time.time() \n",
    "duration = end - start\n",
    "print duration"
   ]
  },
  {
   "cell_type": "code",
   "execution_count": 6,
   "metadata": {
    "collapsed": true
   },
   "outputs": [],
   "source": [
    "## processing time experiment"
   ]
  },
  {
   "cell_type": "code",
   "execution_count": 7,
   "metadata": {
    "collapsed": false
   },
   "outputs": [
    {
     "name": "stdout",
     "output_type": "stream",
     "text": [
      "105.305848837\n"
     ]
    }
   ],
   "source": [
    "result = []\n",
    "count = 1\n",
    "start = time.time()\n",
    "for flight in testFlights:\n",
    "    res = getFaultMode(flight, testEngine)\n",
    "    result.append(res)\n",
    "#     print count, flight, res\n",
    "    count += 1\n",
    "end = time.time() \n",
    "duration = end - start\n",
    "print duration\n",
    "## from the result, most likely that each engine has one fault mode"
   ]
  },
  {
   "cell_type": "code",
   "execution_count": 8,
   "metadata": {
    "collapsed": false
   },
   "outputs": [
    {
     "name": "stdout",
     "output_type": "stream",
     "text": [
      "106.456169128\n"
     ]
    }
   ],
   "source": [
    "result = []\n",
    "count = 1\n",
    "start = time.time()\n",
    "for flight in testFlights:\n",
    "    res = getFaultMode1(flight, testEngine)\n",
    "    result.append(res)\n",
    "#     print count, flight, res\n",
    "    count += 1\n",
    "end = time.time() \n",
    "duration = end - start\n",
    "print duration\n",
    "## from the result, most likely that each engine has one fault mode"
   ]
  },
  {
   "cell_type": "code",
   "execution_count": 9,
   "metadata": {
    "collapsed": false
   },
   "outputs": [
    {
     "name": "stdout",
     "output_type": "stream",
     "text": [
      "256.644268036\n"
     ]
    }
   ],
   "source": [
    "result = []\n",
    "count = 1\n",
    "start = time.time()\n",
    "for flight in testFlights:\n",
    "    res = getFaultMode0(flight, testEngine)\n",
    "    result.append(res)\n",
    "#     print count, flight, res\n",
    "    count += 1\n",
    "end = time.time() \n",
    "duration = end - start\n",
    "print duration\n",
    "## from the result, most likely that each engine has one fault mode"
   ]
  },
  {
   "cell_type": "code",
   "execution_count": 24,
   "metadata": {
    "collapsed": false
   },
   "outputs": [
    {
     "name": "stdout",
     "output_type": "stream",
     "text": [
      "1 time elapsed: 0.0 ('Engine0136', 'flight2162.csv')\n",
      "2 time elapsed: 107.97 ('Engine0189', 'flight2162.csv')\n",
      "3 time elapsed: 402.56 ('Engine0199', 'flight0001.csv')\n",
      "4 time elapsed: 403.12 ('Engine0200', 'flight2162.csv')\n",
      "5 time elapsed: 656.82 ('Engine0177', 'flight2162.csv')\n",
      "6 time elapsed: 895.28 ('Engine0010', 'flight0383.csv')\n",
      "7 time elapsed: 1053.21 ('Engine0045', 'flight2162.csv')\n",
      "8 time elapsed: 1407.96 ('Engine0162', 'flight0383.csv')\n",
      "9 time elapsed: 1523.91 ('Engine0159', 'flight0016.csv')\n",
      "10 time elapsed: 1525.9 ('Engine0153', 'flight1267.csv')\n",
      "11 time elapsed: 1738.65 ('Engine0001', 'flight0084.csv')\n",
      "12 time elapsed: 1747.3 ('Engine0013', 'flight2162.csv')\n",
      "13 time elapsed: 2045.57 ('Engine0103', 'flight0383.csv')\n",
      "14 time elapsed: 2129.32 ('Engine0064', 'flight1267.csv')\n",
      "15 time elapsed: 2321.59 ('Engine0002', 'flight2162.csv')\n",
      "16 time elapsed: 2543.43 ('Engine0009', 'flight2162.csv')\n",
      "17 time elapsed: 2824.35 ('Engine0092', 'flight2162.csv')\n",
      "18 time elapsed: 3056.2 ('Engine0069', 'flight2162.csv')\n",
      "19 time elapsed: 3309.18 ('Engine0147', 'flight0084.csv')\n",
      "20 time elapsed: 3327.15 ('Engine0029', 'flight1267.csv')\n",
      "21 time elapsed: 3452.37 ('Engine0145', 'flight1267.csv')\n",
      "22 time elapsed: 3625.41 ('Engine0155', 'flight2162.csv')\n",
      "23 time elapsed: 3966.67 ('Engine0167', 'flight2162.csv')\n",
      "24 time elapsed: 4329.53 ('Engine0126', 'flight2162.csv')\n",
      "25 time elapsed: 4623.11 ('Engine0165', 'flight1267.csv')\n",
      "26 time elapsed: 4757.59 ('Engine0125', 'flight2162.csv')\n",
      "27 time elapsed: 5009.88 ('Engine0050', 'flight1267.csv')\n",
      "28 time elapsed: 5164.91 ('Engine0170', 'flight0001.csv')\n",
      "29 time elapsed: 5165.14 ('Engine0161', 'flight1267.csv')\n",
      "30 time elapsed: 5325.74 ('Engine0160', 'flight2162.csv')\n",
      "31 time elapsed: 5548.36 ('Engine0062', 'flight0383.csv')\n",
      "32 time elapsed: 5583.46 ('Engine0117', 'flight2162.csv')\n",
      "33 time elapsed: 5887.31 ('Engine0110', 'flight2162.csv')\n",
      "34 time elapsed: 6097.66 ('Engine0078', 'flight0383.csv')\n",
      "35 time elapsed: 6174.21 ('Engine0113', 'flight1267.csv')\n",
      "36 time elapsed: 6342.32 ('Engine0102', 'flight1267.csv')\n",
      "37 time elapsed: 6491.31 ('Engine0070', 'flight2162.csv')\n",
      "38 time elapsed: 6721.46 ('Engine0085', 'flight1267.csv')\n",
      "39 time elapsed: 6819.73 ('Engine0134', 'flight2162.csv')\n",
      "40 time elapsed: 7023.78 ('Engine0014', 'flight1267.csv')\n",
      "41 time elapsed: 7136.35 ('Engine0180', 'flight1267.csv')\n",
      "42 time elapsed: 7307.17 ('Engine0124', 'flight2162.csv')\n",
      "43 time elapsed: 7510.62 ('Engine0043', 'flight1267.csv')\n",
      "44 time elapsed: 7686.39 ('Engine0079', 'flight2162.csv')\n",
      "45 time elapsed: 7925.91 ('Engine0023', 'flight1267.csv')\n",
      "46 time elapsed: 8037.15 ('Engine0081', 'flight1267.csv')\n",
      "47 time elapsed: 8211.68 ('Engine0025', 'flight2162.csv')\n",
      "48 time elapsed: 8472.61 ('Engine0088', 'flight2162.csv')\n",
      "49 time elapsed: 8752.21 ('Engine0138', 'flight2162.csv')\n",
      "50 time elapsed: 8993.91 ('Engine0176', 'flight2162.csv')\n",
      "51 time elapsed: 9228.75 ('Engine0157', 'flight0001.csv')\n",
      "52 time elapsed: 9229.39 ('Engine0190', 'flight2162.csv')\n",
      "53 time elapsed: 9459.59 ('Engine0119', 'flight0383.csv')\n",
      "54 time elapsed: 9531.89 ('Engine0116', 'flight2162.csv')\n",
      "55 time elapsed: 9847.68 ('Engine0075', 'flight2162.csv')\n",
      "56 time elapsed: 10135.17 ('Engine0060', 'flight2162.csv')\n",
      "57 time elapsed: 10345.13 ('Engine0184', 'flight0001.csv')\n",
      "58 time elapsed: 10345.34 ('Engine0065', 'flight0001.csv')\n",
      "59 time elapsed: 10346.02 ('Engine0073', 'flight1267.csv')\n",
      "60 time elapsed: 10471.97 ('Engine0131', 'flight2162.csv')\n",
      "61 time elapsed: 10669.3 ('Engine0089', 'flight0383.csv')\n",
      "62 time elapsed: 10717.18 ('Engine0012', 'flight0313.csv')\n",
      "63 time elapsed: 10743.79 ('Engine0183', 'flight2162.csv')\n",
      "64 time elapsed: 10965.2 ('Engine0087', 'flight2162.csv')\n",
      "65 time elapsed: 11224.74 ('Engine0028', 'flight1267.csv')\n",
      "66 time elapsed: 11381.19 ('Engine0096', 'flight0001.csv')\n",
      "67 time elapsed: 11381.39 ('Engine0149', 'flight0383.csv')\n",
      "68 time elapsed: 11430.7 ('Engine0122', 'flight1267.csv')\n",
      "69 time elapsed: 11570.07 ('Engine0004', 'flight0001.csv')\n",
      "70 time elapsed: 11570.44 ('Engine0192', 'flight1194.csv')\n",
      "71 time elapsed: 11669.59 ('Engine0174', 'flight1267.csv')\n",
      "72 time elapsed: 11824.07 ('Engine0007', 'flight0383.csv')\n",
      "73 time elapsed: 11877.86 ('Engine0047', 'flight1267.csv')\n",
      "74 time elapsed: 12044.7 ('Engine0057', 'flight0001.csv')\n",
      "75 time elapsed: 12045.45 ('Engine0148', 'flight2162.csv')\n",
      "76 time elapsed: 12285.22 ('Engine0056', 'flight2162.csv')\n",
      "77 time elapsed: 12481.21 ('Engine0109', 'flight1267.csv')\n",
      "78 time elapsed: 12594.45 ('Engine0049', 'flight1267.csv')\n",
      "79 time elapsed: 12739.25 ('Engine0178', 'flight1267.csv')\n",
      "80 time elapsed: 12890.91 ('Engine0152', 'flight2162.csv')\n",
      "81 time elapsed: 13111.88 ('Engine0150', 'flight0016.csv')\n",
      "82 time elapsed: 13114.63 ('Engine0154', 'flight0001.csv')\n",
      "83 time elapsed: 13114.79 ('Engine0193', 'flight1267.csv')\n",
      "84 time elapsed: 13250.8 ('Engine0143', 'flight2162.csv')\n",
      "85 time elapsed: 13443.23 ('Engine0095', 'flight1267.csv')\n",
      "86 time elapsed: 13552.76 ('Engine0121', 'flight1267.csv')\n",
      "87 time elapsed: 13719.12 ('Engine0129', 'flight1267.csv')\n",
      "88 time elapsed: 13843.7 ('Engine0068', 'flight2162.csv')\n",
      "89 time elapsed: 14016.02 ('Engine0017', 'flight2162.csv')\n",
      "90 time elapsed: 14185.06 ('Engine0151', 'flight0383.csv')\n",
      "91 time elapsed: 14230.47 ('Engine0099', 'flight2162.csv')\n",
      "92 time elapsed: 14422.24 ('Engine0046', 'flight1267.csv')\n",
      "93 time elapsed: 14585.9 ('Engine0104', 'flight2162.csv')\n",
      "94 time elapsed: 14785.14 ('Engine0141', 'flight0016.csv')\n",
      "95 time elapsed: 14787.99 ('Engine0185', 'flight2162.csv')\n",
      "96 time elapsed: 15064.43 ('Engine0052', 'flight0383.csv')\n",
      "97 time elapsed: 15146.8 ('Engine0164', 'flight2162.csv')\n",
      "98 time elapsed: 15351.4 ('Engine0101', 'flight0383.csv')\n",
      "99 time elapsed: 15393.56 ('Engine0098', 'flight1267.csv')\n",
      "100 time elapsed: 15552.04 ('Engine0120', 'flight0055.csv')\n",
      "101 time elapsed: 15556.74 ('Engine0080', 'flight0055.csv')\n",
      "102 time elapsed: 15562.99 ('Engine0083', 'flight0383.csv')\n",
      "103 time elapsed: 15602.98 ('Engine0188', 'flight0084.csv')\n",
      "104 time elapsed: 15622.76 ('Engine0171', 'flight1267.csv')\n",
      "105 time elapsed: 15771.76 ('Engine0187', 'flight0084.csv')\n",
      "106 time elapsed: 15789.72 ('Engine0133', 'flight2162.csv')\n",
      "107 time elapsed: 16061.14 ('Engine0111', 'flight2162.csv')\n",
      "108 time elapsed: 16232.6 ('Engine0005', 'flight2162.csv')\n",
      "109 time elapsed: 16422.53 ('Engine0082', 'flight1267.csv')\n",
      "110 time elapsed: 16563.47 ('Engine0123', 'flight1267.csv')\n",
      "111 time elapsed: 16692.37 ('Engine0053', 'flight1267.csv')\n",
      "112 time elapsed: 16807.26 ('Engine0130', 'flight1267.csv')\n",
      "113 time elapsed: 16909.77 ('Engine0022', 'flight1267.csv')\n",
      "114 time elapsed: 17070.0 ('Engine0172', 'flight1267.csv')\n",
      "115 time elapsed: 17193.9 ('Engine0191', 'flight1194.csv')\n",
      "116 time elapsed: 17286.91 ('Engine0100', 'flight2162.csv')\n",
      "117 time elapsed: 17454.47 ('Engine0054', 'flight2162.csv')\n",
      "118 time elapsed: 17716.39 ('Engine0181', 'flight1267.csv')\n",
      "119 time elapsed: 17836.08 ('Engine0108', 'flight1267.csv')\n",
      "120 time elapsed: 17969.15 ('Engine0044', 'flight1267.csv')\n",
      "121 time elapsed: 18080.87 ('Engine0140', 'flight2162.csv')\n",
      "122 time elapsed: 18329.78 ('Engine0090', 'flight1267.csv')\n",
      "123 time elapsed: 18445.2 ('Engine0063', 'flight0001.csv')\n",
      "124 time elapsed: 18445.5 ('Engine0040', 'flight2162.csv')\n",
      "125 time elapsed: 18693.37 ('Engine0097', 'flight2162.csv')\n",
      "126 time elapsed: 18888.33 ('Engine0020', 'flight2162.csv')\n",
      "127 time elapsed: 19103.43 ('Engine0016', 'flight2162.csv')\n",
      "128 time elapsed: 19301.18 ('Engine0074', 'flight2162.csv')\n",
      "129 time elapsed: 19476.66 ('Engine0027', 'flight2162.csv')\n",
      "130 time elapsed: 19682.13 ('Engine0061', 'flight2162.csv')\n",
      "131 time elapsed: 19871.3 ('Engine0084', 'flight2162.csv')\n",
      "132 time elapsed: 20178.3 ('Engine0048', 'flight0001.csv')\n",
      "133 time elapsed: 20178.49 ('Engine0132', 'flight2162.csv')\n",
      "134 time elapsed: 20419.06 ('Engine0071', 'flight2162.csv')\n",
      "135 time elapsed: 20614.87 ('Engine0107', 'flight1267.csv')\n",
      "136 time elapsed: 20726.66 ('Engine0077', 'flight2162.csv')\n",
      "137 time elapsed: 20902.52 ('Engine0011', 'flight1267.csv')\n",
      "138 time elapsed: 21053.13 ('Engine0015', 'flight1267.csv')\n",
      "139 time elapsed: 21213.77 ('Engine0158', 'flight1267.csv')\n",
      "140 time elapsed: 21310.32 ('Engine0041', 'flight0383.csv')\n",
      "141 time elapsed: 21397.59 ('Engine0127', 'flight1267.csv')\n",
      "142 time elapsed: 21536.37 ('Engine0066', 'flight0001.csv')\n",
      "143 time elapsed: 21536.73 ('Engine0166', 'flight2162.csv')\n",
      "144 time elapsed: 21711.55 ('Engine0026', 'flight2162.csv')\n",
      "145 time elapsed: 21891.07 ('Engine0067', 'flight2162.csv')\n",
      "146 time elapsed: 22150.53 ('Engine0168', 'flight1267.csv')\n",
      "147 time elapsed: 22303.5 ('Engine0042', 'flight1267.csv')\n",
      "148 time elapsed: 22466.12 ('Engine0091', 'flight0001.csv')\n",
      "149 time elapsed: 22466.4 ('Engine0024', 'flight1267.csv')\n",
      "150 time elapsed: 22607.85 ('Engine0018', 'flight2162.csv')\n",
      "151 time elapsed: 22827.47 ('Engine0135', 'flight2162.csv')\n",
      "152 time elapsed: 23014.83 ('Engine0156', 'flight2162.csv')\n",
      "153 time elapsed: 23282.97 ('Engine0021', 'flight1267.csv')\n",
      "154 time elapsed: 23419.76 ('Engine0094', 'flight1267.csv')\n",
      "155 time elapsed: 23519.39 ('Engine0051', 'flight2162.csv')\n",
      "156 time elapsed: 23785.97 ('Engine0198', 'flight0016.csv')\n",
      "157 time elapsed: 23787.58 ('Engine0146', 'flight2162.csv')\n"
     ]
    }
   ],
   "source": [
    "count = 1\n",
    "fullFaultinfo =[]\n",
    "start = time.time()\n",
    "for i in range(len(engineIds)):\n",
    "    engineId = engineIds[i]\n",
    "    for j in range(len(flightIds[i])):\n",
    "        if j == 0:\n",
    "            end = time.time() \n",
    "            duration = end - start\n",
    "            print count, \"time elapsed:\",round(duration,2), (engineId,flightIds[i][j])\n",
    "            count += 1\n",
    "        flightId = flightIds[i][j]\n",
    "        fullFaultinfo.append((engineId, flightId, getFaultMode(flightId, engineId, path = aeroPath) ))"
   ]
  },
  {
   "cell_type": "code",
   "execution_count": 25,
   "metadata": {
    "collapsed": false
   },
   "outputs": [
    {
     "data": {
      "text/plain": [
       "[('Engine0136', 'flight2162.csv', {3.0}),\n",
       " ('Engine0136', 'flight1267.csv', {3.0}),\n",
       " ('Engine0136', 'flight1194.csv', {3.0}),\n",
       " ('Engine0136', 'flight0383.csv', {3.0}),\n",
       " ('Engine0136', 'flight2356.csv', {3.0}),\n",
       " ('Engine0136', 'flight0714.csv', {3.0}),\n",
       " ('Engine0136', 'flight0725.csv', {3.0}),\n",
       " ('Engine0136', 'flight2002.csv', {3.0}),\n",
       " ('Engine0136', 'flight0990.csv', {3.0}),\n",
       " ('Engine0136', 'flight1974.csv', {3.0})]"
      ]
     },
     "execution_count": 25,
     "metadata": {},
     "output_type": "execute_result"
    }
   ],
   "source": [
    "fullFaultinfo[:10]"
   ]
  },
  {
   "cell_type": "code",
   "execution_count": 28,
   "metadata": {
    "collapsed": false
   },
   "outputs": [
    {
     "name": "stdout",
     "output_type": "stream",
     "text": [
      "Totoal number of entry: 291485\n"
     ]
    }
   ],
   "source": [
    "print \"Totoal number of entry:\",len(fullFaultinfo)"
   ]
  },
  {
   "cell_type": "code",
   "execution_count": null,
   "metadata": {
    "collapsed": true
   },
   "outputs": [],
   "source": []
  },
  {
   "cell_type": "code",
   "execution_count": 31,
   "metadata": {
    "collapsed": false
   },
   "outputs": [
    {
     "data": {
      "text/plain": [
       "2324.703125"
      ]
     },
     "execution_count": 31,
     "metadata": {},
     "output_type": "execute_result"
    }
   ],
   "source": [
    "sys.getsizeof(fullFaultinfo)/1024."
   ]
  },
  {
   "cell_type": "code",
   "execution_count": 40,
   "metadata": {
    "collapsed": true
   },
   "outputs": [],
   "source": [
    "df = pd.DataFrame(fullFaultinfo)\n",
    "df.columns = ['engineId',\"flightId\",\"faultMode\"]"
   ]
  },
  {
   "cell_type": "code",
   "execution_count": 42,
   "metadata": {
    "collapsed": true
   },
   "outputs": [],
   "source": [
    "df.to_csv(\"./smallData/fullEngineFaultInfo.csv\", index = None)"
   ]
  },
  {
   "cell_type": "code",
   "execution_count": null,
   "metadata": {
    "collapsed": true
   },
   "outputs": [],
   "source": []
  }
 ],
 "metadata": {
  "kernelspec": {
   "display_name": "Python 2",
   "language": "python",
   "name": "python2"
  },
  "language_info": {
   "codemirror_mode": {
    "name": "ipython",
    "version": 2
   },
   "file_extension": ".py",
   "mimetype": "text/x-python",
   "name": "python",
   "nbconvert_exporter": "python",
   "pygments_lexer": "ipython2",
   "version": "2.7.10"
  }
 },
 "nbformat": 4,
 "nbformat_minor": 0
}
