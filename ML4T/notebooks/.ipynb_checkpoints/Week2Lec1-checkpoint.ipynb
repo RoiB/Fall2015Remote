{
 "cells": [
  {
   "cell_type": "code",
   "execution_count": 11,
   "metadata": {
    "collapsed": true
   },
   "outputs": [],
   "source": [
    "import pandas as pd\n",
    "datapath = '../ml4t/data/'"
   ]
  },
  {
   "cell_type": "code",
   "execution_count": 43,
   "metadata": {
    "collapsed": false
   },
   "outputs": [],
   "source": []
  },
  {
   "cell_type": "code",
   "execution_count": 44,
   "metadata": {
    "collapsed": false
   },
   "outputs": [],
   "source": [
    "df = pd.read_csv(\"../ml4t/data/SPY.csv\", index_col= \"Date\", parse_dates= True, usecols=['Date','Adj Close'], na_values= ['nan'])\n",
    "df = df.rename(columns={\"Adj Close\":'SPY'})\n",
    "symbols = ['GOOG','IBM','GLD']\n",
    "for symbol in symbols:\n",
    "    df_temp = pd.read_csv(\"{}{}.csv\".format(datapath,symbol), \n",
    "                          index_col= \"Date\", parse_dates= True, \n",
    "                          usecols=['Date','Adj Close'], na_values= ['nan'])\n",
    "    df_temp = df_temp.rename(columns={'Adj Close':symbol})\n",
    "    df = df.join(df_temp)"
   ]
  }
 ],
 "metadata": {
  "kernelspec": {
   "display_name": "Python 2",
   "language": "python",
   "name": "python2"
  },
  "language_info": {
   "codemirror_mode": {
    "name": "ipython",
    "version": 2
   },
   "file_extension": ".py",
   "mimetype": "text/x-python",
   "name": "python",
   "nbconvert_exporter": "python",
   "pygments_lexer": "ipython2",
   "version": "2.7.10"
  }
 },
 "nbformat": 4,
 "nbformat_minor": 0
}
