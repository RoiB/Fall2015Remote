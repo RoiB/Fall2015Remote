{
 "cells": [
  {
   "cell_type": "code",
   "execution_count": 1,
   "metadata": {
    "collapsed": false
   },
   "outputs": [],
   "source": [
    "def isPrime(m):\n",
    "    for i in range(2,m):\n",
    "        if (m % i) == 0:\n",
    "            return False\n",
    "    return True\n",
    "assert isPrime(2) == True\n",
    "assert isPrime(3) == True\n",
    "assert isPrime(5) == True\n",
    "assert isPrime(7) == True\n",
    "assert isPrime(4) == False\n",
    "assert isPrime(6) == False"
   ]
  },
  {
   "cell_type": "code",
   "execution_count": 7,
   "metadata": {
    "collapsed": true
   },
   "outputs": [],
   "source": [
    "def nthPrime(n):\n",
    "    '''\n",
    "    Brute force method\n",
    "    '''\n",
    "    m = 1     # starting from 2 and accumulate by 1\n",
    "    count = 0 # 2 is a prime and is pre counted\n",
    "    ## with every value of m, check if it is prime\n",
    "    ## if it is a prime count++, else do nothing until count == n\n",
    "    while (count != n):\n",
    "        m+=1\n",
    "        if isPrime(m):\n",
    "            count+=1\n",
    "    return m\n",
    "assert nthPrime(1) == 2\n",
    "assert nthPrime(2) == 3\n",
    "assert nthPrime(3) == 5\n",
    "assert nthPrime(4) == 7\n",
    "assert nthPrime(5) == 11"
   ]
  },
  {
   "cell_type": "code",
   "execution_count": null,
   "metadata": {
    "collapsed": true
   },
   "outputs": [],
   "source": []
  }
 ],
 "metadata": {
  "kernelspec": {
   "display_name": "Python 2",
   "language": "python",
   "name": "python2"
  },
  "language_info": {
   "codemirror_mode": {
    "name": "ipython",
    "version": 2
   },
   "file_extension": ".py",
   "mimetype": "text/x-python",
   "name": "python",
   "nbconvert_exporter": "python",
   "pygments_lexer": "ipython2",
   "version": "2.7.10"
  }
 },
 "nbformat": 4,
 "nbformat_minor": 0
}
