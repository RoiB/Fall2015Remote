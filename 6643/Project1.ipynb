{
 "cells": [
  {
   "cell_type": "code",
   "execution_count": 1,
   "metadata": {
    "collapsed": true
   },
   "outputs": [],
   "source": [
    "import numpy as np"
   ]
  },
  {
   "cell_type": "code",
   "execution_count": 4,
   "metadata": {
    "collapsed": true
   },
   "outputs": [],
   "source": [
    "m = 10 # dimension of matrix\n",
    "mu = 0 # mean is 0\n",
    "sigma = np.sqrt(m) # standard deviation is square root of m "
   ]
  },
  {
   "cell_type": "code",
   "execution_count": 8,
   "metadata": {
    "collapsed": false
   },
   "outputs": [],
   "source": [
    "random_matrix = np.random.normal(mu, sigma, m**2)"
   ]
  },
  {
   "cell_type": "code",
   "execution_count": 10,
   "metadata": {
    "collapsed": false
   },
   "outputs": [],
   "source": [
    "random_matrix.shape = (m,m)"
   ]
  },
  {
   "cell_type": "code",
   "execution_count": 16,
   "metadata": {
    "collapsed": false
   },
   "outputs": [
    {
     "data": {
      "text/plain": [
       "array([[ 2.25725711, -0.49730558,  0.81891001, -1.30337677,  4.65844809,\n",
       "         0.79356284,  3.42774752, -2.6215426 ,  2.09675308,  3.58231636],\n",
       "       [-0.37199198, -0.29900984, -0.79973355, -1.71610354, -8.02879436,\n",
       "         2.60692741, -0.57199323,  0.98170951, -2.73054071,  2.97348001],\n",
       "       [-5.66966161,  2.88752085,  8.01217042, -3.40474151, -3.69676914,\n",
       "        -4.61659588,  5.11991222,  6.03929462, -4.48589829, -1.33438356],\n",
       "       [ 0.45036565,  4.93462907,  1.12564457, -3.29140372,  5.34867186,\n",
       "        -0.12980634, -3.7769322 , -3.12279268, -1.21331017,  4.38164762],\n",
       "       [ 4.00897415, -2.44516207, -2.50626724,  2.93814668, -3.5302259 ,\n",
       "         1.54011827,  1.85683254,  3.46834805,  0.45638137, -0.57752372],\n",
       "       [ 5.55316439, -4.16807918, -1.21951999,  3.73525978,  1.28479051,\n",
       "        -0.94152276, -1.44323998, -5.51053383,  2.5107107 , -4.06967551],\n",
       "       [-4.19864623, -7.0414771 ,  1.72430387, -0.97464736, -1.97661069,\n",
       "        -0.26500344, -0.38237971, -0.60756664, -1.9065545 , -0.19397853],\n",
       "       [ 1.7959389 , -0.83732679,  1.0591002 , -4.05969365,  3.83855359,\n",
       "        -3.10463934, -3.39269406, -2.71158964, -0.25473886,  8.58437497],\n",
       "       [-1.24756506,  2.3041997 , -0.41406089,  0.43984515, -1.93538373,\n",
       "         0.54158812, -1.87545012, -2.80494071, -5.65250742,  5.25614564],\n",
       "       [ 0.11103409, -2.07377448,  2.34863393, -3.08264087,  4.20783899,\n",
       "        -6.75495518, -0.10213212, -2.78765075, -2.82007524,  1.59537553]])"
      ]
     },
     "execution_count": 16,
     "metadata": {},
     "output_type": "execute_result"
    }
   ],
   "source": [
    "random_matrix"
   ]
  },
  {
   "cell_type": "code",
   "execution_count": null,
   "metadata": {
    "collapsed": true
   },
   "outputs": [],
   "source": []
  }
 ],
 "metadata": {
  "kernelspec": {
   "display_name": "Python 2",
   "language": "python",
   "name": "python2"
  },
  "language_info": {
   "codemirror_mode": {
    "name": "ipython",
    "version": 2
   },
   "file_extension": ".py",
   "mimetype": "text/x-python",
   "name": "python",
   "nbconvert_exporter": "python",
   "pygments_lexer": "ipython2",
   "version": "2.7.10"
  }
 },
 "nbformat": 4,
 "nbformat_minor": 0
}
